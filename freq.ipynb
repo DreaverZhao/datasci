{
 "cells": [
  {
   "cell_type": "code",
   "execution_count": 1,
   "metadata": {},
   "outputs": [],
   "source": [
    "import numpy as np\n",
    "import pandas\n",
    "import matplotlib.pyplot as plt\n",
    "import scipy.stats\n",
    "import sklearn.linear_model"
   ]
  },
  {
   "cell_type": "markdown",
   "metadata": {},
   "source": [
    "# 8.1 Confidence intervals / parametric resampling\n",
    "\n",
    "### Example: confidence interval for mle\n",
    "\n",
    "Dataset: $x=(x_1,\\dots,x_n)$\n",
    "\n",
    "Model: $X_i\\sim N(\\mu,\\sigma^2)$, where $\\mu$ and $\\sigma$ are unknown.\n",
    "The maximum likelihood estimators are\n",
    "$$\n",
    "\\hat{\\mu}=\\bar{x}=\\frac{1}{n}\\sum_{i=1}^n x_i,\\qquad\n",
    "\\hat{\\sigma}=\\sqrt{\\frac{1}{n}\\sum_{i=1}^n (x_i-\\hat{\\mu})^2}\n",
    "$$\n",
    "\n",
    "Want a 95% interval for $\\hat{\\mu}$."
   ]
  },
  {
   "cell_type": "code",
   "execution_count": 2,
   "metadata": {},
   "outputs": [
    {
     "name": "stdout",
     "output_type": "stream",
     "text": [
      "95% confint [7.49,8.78]\n"
     ]
    },
    {
     "data": {
      "image/png": "[encoded data removed]",
      "text/plain": [
       "<Figure size 216x108 with 1 Axes>"
      ]
     },
     "metadata": {
      "needs_background": "light"
     },
     "output_type": "display_data"
    }
   ],
   "source": [
    "x = [7.2, 7.3, 7.8, 8.2, 8.8, 9.5]\n",
    "n = len(x)\n",
    " \n",
    "# 1. Define the readout statistic\n",
    "def μhat(x): return np.mean(x)\n",
    "\n",
    "# 2. To generate a synthetic dataset ...\n",
    "σhat = np.sqrt(np.mean((x-μhat(x))**2))\n",
    "def rx(): return np.random.normal(loc=μhat(x), scale=σhat, size=n)\n",
    "\n",
    "# 3. Sample the readout statistic, and report its spread\n",
    "μhat_ = [μhat(rx()) for _ in range(10000)]\n",
    "lo,hi = np.quantile(μhat_, [.025, .975])\n",
    "print(f\"95% confint [{lo:.3},{hi:.3}]\")\n",
    "\n",
    "fig,ax = plt.subplots(figsize=(3,1.5))\n",
    "ax.hist(μhat_, bins=30, alpha=.4)\n",
    "ax.axvline(lo, linestyle='dotted', color='0.4')\n",
    "ax.axvline(hi, linestyle='dotted', color='0.4')\n",
    "ax.set_yticks([])\n",
    "plt.show()"
   ]
  },
  {
   "cell_type": "markdown",
   "metadata": {},
   "source": [
    "### Example: comparing groups\n",
    "\n",
    "Dataset: $x=(x_1,\\dots,x_m)$, $y=(y_1,\\dots,y_n)$\n",
    "\n",
    "Model: $X_i\\sim N(\\mu,\\sigma^2)$, $Y_i\\sim N(\\nu,\\sigma^2)$. The maximum likelihood estimators are\n",
    "$$\n",
    "\\mu=\\bar{x},\\qquad\n",
    "\\nu=\\bar{y},\\qquad\n",
    "\\hat{\\sigma}=\\sqrt{\\frac{1}{m+n}\\left\\{\\sum(x_i-\\hat{\\mu})^2+\\sum(y_i-\\hat{\\nu})^2\\right\\}}\n",
    "$$\n",
    "\n",
    "Want a 95% confidence interval for the difference between the two group means, $\\hat{\\nu}-\\hat{\\mu}$"
   ]
  },
  {
   "cell_type": "code",
   "execution_count": 3,
   "metadata": {},
   "outputs": [
    {
     "name": "stdout",
     "output_type": "stream",
     "text": [
      "95% confint [-0.419,3.74]\n"
     ]
    },
    {
     "data": {
      "image/png": "[encoded data removed]",
      "text/plain": [
       "<Figure size 216x108 with 1 Axes>"
      ]
     },
     "metadata": {
      "needs_background": "light"
     },
     "output_type": "display_data"
    }
   ],
   "source": [
    "x = [4.3, 5.1, 6.1, 6.8, 7.4, 8.8, 9.9]\n",
    "y = [8.3, 8.5, 8.9]\n",
    "m,n = len(x), len(y)\n",
    "\n",
    "# 1. Define a readout statistic\n",
    "def t(x,y): return np.mean(y) - np.mean(x)\n",
    "\n",
    "# 2. To generate a synthetic dataset ...\n",
    "# Note that we should generate a dataset of the same shape as the observed data,\n",
    "# i.e. a list of x-values and a list of y-values.\n",
    "μhat,νhat = np.mean(x), np.mean(y)\n",
    "σhat = np.sqrt((np.sum((x-μhat)**2) + np.sum((y-νhat)**2))/(m+n))\n",
    "def rxy():\n",
    "    return (np.random.normal(loc=μhat, scale=σhat, size=m), \n",
    "            np.random.normal(loc=νhat, scale=σhat, size=n))\n",
    "\n",
    "# 3. Sample the readout statistic, and reports its spread\n",
    "t_ = [t(*rxy()) for _ in range(50000)]\n",
    "lo,hi = np.quantile(t_, [.025, .975])\n",
    "print(f\"95% confint [{lo:.3},{hi:.3}]\")\n",
    "\n",
    "fig,ax = plt.subplots(figsize=(3,1.5))\n",
    "ax.hist(t_, bins=30, alpha=.4)\n",
    "ax.axvline(lo, linestyle='dotted', color='0.4')\n",
    "ax.axvline(hi, linestyle='dotted', color='0.4')\n",
    "ax.set_yticks([])\n",
    "plt.show()"
   ]
  },
  {
   "cell_type": "markdown",
   "metadata": {},
   "source": [
    "### Example: fires in the Amazon\n",
    "\n",
    "See [The Guardian article](https://www.theguardian.com/world/2019/aug/30/corporations-pile-pressure-on-brazil-over-amazon-fires-crisis).\n",
    "\n",
    "Dataset: $x_i$ is the cumulative number of fires in year $i$, $i\\in\\{2011,\\dots,2019\\}$, from the start of the year up to day 240 (29 August).\n",
    "\n",
    "Model: $X_{2011},\\dots,X_{2018}\\sim N(\\mu,\\sigma^2)$ and $X_{2019}\\sim N(\\mu+\\delta,\\sigma^2)$\n",
    "\n",
    "Want a 95% confidence interval for $\\hat{\\delta}$\n",
    "\n",
    "It's easy to write down formulae for $\\hat{\\mu}$, $\\hat{\\delta}$, and $\\hat{\\sigma}$. Instead, this code snippet uses a slower brute force method, which is useful to know for more complex models where the formulae aren't easy. We'll  use a library routine to fit a linear model, and extract its coefficients:\n",
    "$$\n",
    "\\textbf{x} \\sim \\mu\\textbf{1} + \\delta 1_{\\textbf{year}=2019} + N(0,\\sigma^2)\n",
    "$$"
   ]
  },
  {
   "cell_type": "code",
   "execution_count": 4,
   "metadata": {},
   "outputs": [
    {
     "data": {
      "image/png": "[encoded data removed]",
      "text/plain": [
       "<Figure size 252x108 with 1 Axes>"
      ]
     },
     "metadata": {
      "needs_background": "light"
     },
     "output_type": "display_data"
    }
   ],
   "source": [
    "modis = pandas.read_csv('https://www.cl.cam.ac.uk/teaching/2223/DataSci/data/modis.csv')\n",
    "modis = modis.loc[modis.day_of_year==240].sort_values('year')\n",
    "modis = modis.sort_values('year')\n",
    "\n",
    "fig,ax = plt.subplots(figsize=(3.5,1.5))\n",
    "ax.bar(modis.year, modis.num_fires, width=0.8, alpha=.4, color='red')\n",
    "plt.xticks(np.arange(2003,2020,2), rotation=-60)\n",
    "plt.show()"
   ]
  },
  {
   "cell_type": "code",
   "execution_count": 5,
   "metadata": {},
   "outputs": [],
   "source": [
    "# restrict attention to the years 2011--2019\n",
    "i = (modis.year >= 2011) & (modis.year <= 2019)\n",
    "year,fires = modis.year.loc[i].values, modis.num_fires.loc[i].values"
   ]
  },
  {
   "cell_type": "code",
   "execution_count": 6,
   "metadata": {},
   "outputs": [
    {
     "name": "stdout",
     "output_type": "stream",
     "text": [
      "95% confint [-2630,66258]\n"
     ]
    },
    {
     "data": {
      "image/png": "[encoded data removed]",
      "text/plain": [
       "<Figure size 252x108 with 1 Axes>"
      ]
     },
     "metadata": {
      "needs_background": "light"
     },
     "output_type": "display_data"
    }
   ],
   "source": [
    "# The feature vectors to use for the linear models\n",
    "X = np.column_stack([year==2019])\n",
    "\n",
    "# 1. Define the readout statistic\n",
    "# Report the δ coefficient from a fitted linear model on the response vector x\n",
    "def δhat(x): \n",
    "    m = sklearn.linear_model.LinearRegression()\n",
    "    m.fit(X, x)\n",
    "    (δ,) = m.coef_\n",
    "    return δ\n",
    "\n",
    "# 2. To generate a synthetic dataset ...\n",
    "# we simply sample new values from the fitted model\n",
    "m = sklearn.linear_model.LinearRegression()\n",
    "m.fit(X, fires)\n",
    "pred = m.predict(X)\n",
    "σhat = np.sqrt(np.mean((fires-pred)**2))\n",
    "def rx(): return np.random.normal(loc=pred, scale=σhat)\n",
    "\n",
    "# 3. Sample the readout statistic and report its spread\n",
    "δhat_ = np.array([δhat(rx()) for _ in range(50000)])\n",
    "lo,hi = np.quantile(δhat_, [.025, .975])\n",
    "print(f\"95% confint [{lo:.0f},{hi:.0f}]\")\n",
    "\n",
    "fig,ax = plt.subplots(figsize=(3.5,1.5))\n",
    "ax.hist(δhat_, bins=30, alpha=.4)\n",
    "ax.axvline(lo, linestyle='dotted', color='0.4')\n",
    "ax.axvline(hi, linestyle='dotted', color='0.4')\n",
    "ax.set_yticks([])\n",
    "plt.show()"
   ]
  },
  {
   "cell_type": "markdown",
   "metadata": {},
   "source": [
    "# 8.2 Hypothesis tests / parametric resampling\n",
    "\n",
    "### Example: comparing two groups\n",
    "\n",
    "Dataset: $x=(x_1,\\dots,x_m)$, $y=(y_1,\\dots,y_n)$\n",
    "\n",
    "General model: $X_i\\sim N(\\mu,\\sigma^2)$, $Y_i\\sim N(\\mu+\\delta,\\sigma^2)$. Under this general model, the maximum likelihood estimator for $\\delta$ is $\\hat{\\delta}=\\bar{y}-\\bar{x}$. We'll use this as our test statistic.\n",
    "\n",
    "Null hypothesis: $\\delta=0$. If this is true, then all the $X_i$ and $Y_i$ are $\\sim N(\\mu,\\sigma^2)$."
   ]
  },
  {
   "cell_type": "code",
   "execution_count": 7,
   "metadata": {},
   "outputs": [
    {
     "name": "stdout",
     "output_type": "stream",
     "text": [
      "p=0.162\n"
     ]
    },
    {
     "data": {
      "image/png": "[encoded data removed]",
      "text/plain": [
       "<Figure size 252x108 with 1 Axes>"
      ]
     },
     "metadata": {
      "needs_background": "light"
     },
     "output_type": "display_data"
    }
   ],
   "source": [
    "x = [4.3, 5.1, 6.1, 6.8, 7.4, 8.8, 9.9]\n",
    "y = [8.3, 8.5, 8.9]\n",
    "\n",
    "# 1. Define the test statistic\n",
    "def t(x,y): return np.mean(y) - np.mean(x)\n",
    "\n",
    "# 2. To generate a synthetic dataset ...\n",
    "μhat = np.mean(np.concatenate([x,y]))\n",
    "σhat = np.sqrt(np.mean((np.concatenate([x,y])-μhat)**2))\n",
    "def rxy(): \n",
    "    return (np.random.normal(loc=μhat, scale=σhat, size=len(x)),\n",
    "            np.random.normal(loc=μhat, scale=σhat, size=len(y)))\n",
    "\n",
    "# 3. Sample the test statistic, compare to what was observed\n",
    "# If H0 weren't true, i.e. if δ!=0, then t might go bigger or it might go smaller,\n",
    "# so large t on either side is evidence against H0,\n",
    "# so we want a two-sided p-value.\n",
    "t_ = np.array([t(*rxy()) for _ in range(10000)])\n",
    "p = 2 * min(np.mean(t_ >= t(x,y)), np.mean(t_ <= t(x,y)))\n",
    "print(f\"p={p:.3}\")\n",
    "\n",
    "fig,ax = plt.subplots(figsize=(3.5,1.5))\n",
    "bins = np.linspace(-4.5, 4.5, 60)\n",
    "ax.hist(t_, bins=bins, alpha=.3)\n",
    "ax.hist(t_[t_>=t(x,y)], bins=bins, color='red')\n",
    "ax.hist(t_[t_<=np.quantile(t_,p/2)], bins=bins, color='red')\n",
    "ax.axvline(x=t(x,y), linestyle='dashed', color='black')\n",
    "ax.set_yticks([])\n",
    "plt.show()"
   ]
  },
  {
   "cell_type": "markdown",
   "metadata": {},
   "source": [
    "### Example: comparing several groups\n",
    "\n",
    "Dataset: three lists of values, $x$, $y$, and $z$\n",
    "\n",
    "General model: $X_i\\sim N(\\mu_x,\\sigma^2)$, $Y_i\\sim N(\\mu_y,\\sigma^2)$, $Z_i\\sim N(\\mu_z,\\sigma^2)$.\n",
    "\n",
    "Null hypothesis: $\\mu_x=\\mu_y=\\mu_z$.\n",
    "\n",
    "Test statistic: $t=(\\hat{\\mu}_x-\\hat{\\mu})^2+(\\hat{\\mu}_y-\\hat{\\mu})^2+(\\hat{\\mu}_z-\\hat{\\mu})^2$. If $H_0$ is false, we'd expect $t$ to be large (bigger +ve)."
   ]
  },
  {
   "cell_type": "code",
   "execution_count": 8,
   "metadata": {},
   "outputs": [
    {
     "name": "stdout",
     "output_type": "stream",
     "text": [
      "p=0.596\n"
     ]
    },
    {
     "data": {
      "image/png": "[encoded data removed]",
      "text/plain": [
       "<Figure size 252x108 with 1 Axes>"
      ]
     },
     "metadata": {
      "needs_background": "light"
     },
     "output_type": "display_data"
    }
   ],
   "source": [
    "x = [7.2, 7.3, 7.8, 8.2, 8.8, 9.5]\n",
    "y = [8.3, 8.5, 9.2]\n",
    "z = [7.4, 8.5, 9.0]\n",
    "\n",
    "# 1. Define test statistic\n",
    "def t(x,y,z):\n",
    "    m = np.mean(np.concatenate([x,y,z]))\n",
    "    a,b,c = [np.mean(v) for v in [x,y,z]]\n",
    "    return (a-m)**2 + (b-m)**2 + (c-m)**2\n",
    "\n",
    "# 2. To generate a synthetic dataset, assuming H0 ...\n",
    "xyz = np.concatenate([x,y,z])\n",
    "μhat = np.mean(xyz)\n",
    "σhat = np.sqrt(np.mean((xyz-μhat)**2))\n",
    "def rxyz():\n",
    "    return (np.random.normal(size=len(x), loc=μhat, scale=σhat),\n",
    "            np.random.normal(size=len(y), loc=μhat, scale=σhat),\n",
    "            np.random.normal(size=len(z), loc=μhat, scale=σhat))\n",
    "\n",
    "# 3. Sample the test statistic, find the p-value\n",
    "t_ = np.array([t(*rxyz()) for _ in range(50000)])\n",
    "p = np.mean(t_ >= t(x,y,z))\n",
    "print(f\"p={p:.3}\")\n",
    "\n",
    "fig,ax = plt.subplots(figsize=(3.5,1.5))\n",
    "bins = np.linspace(0, 1.5, 50)\n",
    "ax.hist(t_, bins=bins, alpha=.4)\n",
    "ax.hist(t_[t_>=t(x,y,z)], bins=bins, color='red')\n",
    "ax.axvline(t(x,y,z), linestyle='dashed', color='black')\n",
    "plt.show()"
   ]
  },
  {
   "cell_type": "markdown",
   "metadata": {},
   "source": [
    "### Example: fires in the Amazon\n",
    "\n",
    "Dataset: $x_i$ is the cumulative number of fires in year $i$, $i\\in\\{2011,\\dots,2019\\}$, from the start of the year up to day 240 (29 August).\n",
    "\n",
    "Null hypothesis model: $X_i\\sim N(\\mu,\\sigma^2)$\n",
    "\n",
    "Test statistic: $x_{2019}/x_{2018}$. We'll consider big (large +ve) values of the test statistic to be evidence against $H_0$."
   ]
  },
  {
   "cell_type": "code",
   "execution_count": 9,
   "metadata": {},
   "outputs": [],
   "source": [
    "modis = pandas.read_csv('https://www.cl.cam.ac.uk/teaching/2223/DataSci/data/modis.csv')\n",
    "modis = modis.loc[modis.day_of_year==240].sort_values('year')\n",
    "modis = modis.sort_values('year')\n",
    "# restrict attention to the years 2011--2019\n",
    "fires = modis.num_fires.loc[(modis.year>=2011) & (modis.year<=2019)].values"
   ]
  },
  {
   "cell_type": "code",
   "execution_count": 10,
   "metadata": {},
   "outputs": [
    {
     "name": "stdout",
     "output_type": "stream",
     "text": [
      "p=0.054\n"
     ]
    },
    {
     "data": {
      "image/png": "[encoded data removed]",
      "text/plain": [
       "<Figure size 216x108 with 1 Axes>"
      ]
     },
     "metadata": {
      "needs_background": "light"
     },
     "output_type": "display_data"
    }
   ],
   "source": [
    "# 1. Define the test statistic\n",
    "def t(x): return x[-1]/x[-2]\n",
    "\n",
    "# 2. To generate a synthetic dataset, assuming H0 ...\n",
    "μhat = np.mean(fires)\n",
    "σhat = np.sqrt(np.mean((fires-μhat)**2))\n",
    "def rx(): return np.random.normal(size=len(fires), loc=μhat, scale=σhat)\n",
    "\n",
    "# 3. Sample the test statistic, compare to observed value, find the p-value\n",
    "t_ = np.array([t(rx()) for _ in range(100000)])\n",
    "p = np.mean(t_ >= t(fires))\n",
    "print(f\"p={p:.2}\")\n",
    "\n",
    "fig,ax = plt.subplots(figsize=(3,1.5))\n",
    "bins = np.linspace(-.5, 3.5, 50)\n",
    "ax.hist(t_, bins=bins, alpha=.4)\n",
    "ax.hist(t_[t_>=t(fires)], bins=bins, color='red')\n",
    "ax.axvline(t(fires), linestyle='dashed', color='black')\n",
    "ax.set_yticks([])\n",
    "plt.show()"
   ]
  },
  {
   "cell_type": "markdown",
   "metadata": {},
   "source": [
    "# 8.3 Non-parametric resampling\n",
    "\n",
    "### Example: confidence interval for comparing groups\n",
    "\n",
    "Dataset: $x=(x_1,\\dots,x_m)$, $y=(y_1,\\dots,y_n)$\n",
    "\n",
    "We want a 95% confidence interval for $\\bar{y}-\\bar{x}$."
   ]
  },
  {
   "cell_type": "code",
   "execution_count": 11,
   "metadata": {},
   "outputs": [
    {
     "name": "stdout",
     "output_type": "stream",
     "text": [
      "95% confint [0.252,3.0]\n"
     ]
    },
    {
     "data": {
      "image/png": "[encoded data removed]",
      "text/plain": [
       "<Figure size 216x108 with 1 Axes>"
      ]
     },
     "metadata": {
      "needs_background": "light"
     },
     "output_type": "display_data"
    }
   ],
   "source": [
    "x = [4.3, 5.1, 6.1, 6.8, 7.4, 8.8, 9.9]\n",
    "y = [8.3, 8.5, 8.9]\n",
    "\n",
    "# 1. Define a readout statistic\n",
    "def t(x,y): return np.mean(y) - np.mean(x)\n",
    "\n",
    "# 2. To generate a synthetic dataset ...\n",
    "# Here we're sampling from the empirical distributions\n",
    "# (which are the best possible fitted distributions)\n",
    "# As usual, we have to return a synthetic dataset of\n",
    "# the same shape as the dataset we're given.\n",
    "def rxy(): \n",
    "    return (np.random.choice(x, size=len(x)),\n",
    "            np.random.choice(y, size=len(y)))\n",
    "\n",
    "# 3. Sample the readout statistic, and report its spread\n",
    "t_ = [t(*rxy()) for _ in range(100000)]\n",
    "lo,hi = np.quantile(t_, [.025, .975])\n",
    "print(f\"95% confint [{lo:.3},{hi:.3}]\")\n",
    "\n",
    "fig,ax = plt.subplots(figsize=(3,1.5))\n",
    "ax.hist(t_, bins=60, alpha=.4)\n",
    "ax.axvline(lo, linestyle='dotted', color='0.4')\n",
    "ax.axvline(hi, linestyle='dotted', color='0.4')\n",
    "ax.set_yticks([])\n",
    "plt.show()"
   ]
  },
  {
   "cell_type": "markdown",
   "metadata": {},
   "source": [
    "### Example: testing if two groups come from the same distribution\n",
    "\n",
    "Dataset: $x=(x_1,\\dots,x_m)$, $y=(y_1,\\dots,y_n)$\n",
    "\n",
    "Null hypothesis: the two groups of readings come from the same distribution.\n",
    "If this is so, then the best possible fit for their common distribution is\n",
    "the empirical distribution of $(x_1,\\dots,x_m,y_1,\\dots,y_n)$.\n",
    "\n",
    "Test statistic: let's use $\\bar{y}-\\bar{x}$. If they come from the same distribution, this should be close to 0. If they come from different distributions (or, more precisely, if they come from distributions with different means), this might go more +ve or it might go more -ve, depending on the difference in means."
   ]
  },
  {
   "cell_type": "code",
   "execution_count": 12,
   "metadata": {},
   "outputs": [
    {
     "data": {
      "image/png": "[encoded data removed]",
      "text/plain": [
       "<Figure size 216x108 with 1 Axes>"
      ]
     },
     "metadata": {
      "needs_background": "light"
     },
     "output_type": "display_data"
    }
   ],
   "source": [
    "x = [4.3, 5.1, 6.1, 6.8, 7.4, 8.8, 9.9]\n",
    "y = [8.3, 8.5, 8.9]\n",
    "\n",
    "# 1. Define the test statistic\n",
    "def t(x,y): return np.mean(y) - np.mean(x)\n",
    "\n",
    "# 2. To generate a synthetic dataset, assuming H0 ...\n",
    "# As usual, we want to return a synthetic dataset of the same shape as the observed dataset\n",
    "def rxy():\n",
    "    return (np.random.choice(np.concatenate([x,y]), size=len(x)),\n",
    "            np.random.choice(np.concatenate([x,y]), size=len(y)))\n",
    "\n",
    "# 3. Sample the test statistic, compare to observed value, find the p-value\n",
    "# In this case, \"extreme\" means \"large +ve or large -ve\", so we want a two-sided p-value\n",
    "t_ = np.array([t(*rxy()) for _ in range(10000)])\n",
    "p = 2 * min(np.mean(t_>=t(x,y)), np.mean(t_<=t(x,y)))\n",
    "\n",
    "fig,ax = plt.subplots(figsize=(3,1.5))\n",
    "bins = np.linspace(-4.5, 4.5, 60)\n",
    "ax.hist(t_, bins=bins, alpha=.4)\n",
    "ax.hist(t_[(t_ >= t(x,y)) | (t_ <= np.quantile(t_,p/2))], bins=bins, color='red')\n",
    "ax.axvline(t(x,y), linestyle='dashed', color='black')\n",
    "ax.set_yticks([])\n",
    "plt.show()"
   ]
  }
 ],
 "metadata": {
  "interpreter": {
   "hash": "916dbcbb3f70747c44a77c7bcd40155683ae19c65e1c03b4aa3499c5328201f1"
  },
  "kernelspec": {
   "display_name": "Python 3",
   "language": "python",
   "name": "python3"
  },
  "language_info": {
   "codemirror_mode": {
    "name": "ipython",
    "version": 3
   },
   "file_extension": ".py",
   "mimetype": "text/x-python",
   "name": "python",
   "nbconvert_exporter": "python",
   "pygments_lexer": "ipython3",
   "version": "3.8.10"
  }
 },
 "nbformat": 4,
 "nbformat_minor": 4
}
