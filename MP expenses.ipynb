{
 "cells": [
  {
   "cell_type": "code",
   "execution_count": null,
   "metadata": {},
   "outputs": [],
   "source": [
    "import numpy as np\n",
    "import pandas\n",
    "import scipy.stats\n",
    "import matplotlib.pyplot as plt\n",
    "import matplotlib"
   ]
  },
  {
   "cell_type": "markdown",
   "metadata": {},
   "source": [
    "# MP expenses\n",
    "\n",
    "This dataset is from [http://www.theipsa.org.uk/mp-costs/your-mp/](http://www.theipsa.org.uk/mp-costs/your-mp/). Code for retrieving the dataset is given at the bottom."
   ]
  },
  {
   "cell_type": "code",
   "execution_count": null,
   "metadata": {},
   "outputs": [],
   "source": [
    "url = 'https://www.cl.cam.ac.uk/teaching/2021/DataSci/data/mpexpenses_2018_office.csv'\n",
    "mpexpenses = pandas.read_csv(url)['Amount Claimed'].values\n",
    "# We'll be trying to model log(amount claimed). There are some claims <= 0,\n",
    "# which certainly merit understanding, but that's not the point of this exercise.\n",
    "mpexpenses = mpexpenses[mpexpenses>0]"
   ]
  },
  {
   "cell_type": "markdown",
   "metadata": {},
   "source": [
    "## 1. Initial exploration"
   ]
  },
  {
   "cell_type": "code",
   "execution_count": null,
   "metadata": {},
   "outputs": [],
   "source": [
    "fig,ax = plt.subplots()\n",
    "ax.hist(np.log10(mpexpenses), bins=75)\n",
    "plt.show()"
   ]
  },
  {
   "cell_type": "code",
   "execution_count": null,
   "metadata": {},
   "outputs": [],
   "source": [
    "# A fitted probability model\n",
    "\n",
    "def rx(p=0.966, μ1=1.797, μ2=2.861, σ1=0.679, σ2=0.116):\n",
    "    # let k='a' with probability p, 'b' with probability 1-p\n",
    "    k = np.random.choice(['a','b'], p=[p,1-p])\n",
    "    if k == 'a':\n",
    "        y = np.random.normal(loc=μ1, scale=σ1)\n",
    "    else:\n",
    "        y = np.random.normal(loc=μ2, scale=σ2)\n",
    "    return np.power(10, y)\n",
    "\n",
    "xsample = [rx() for _ in range(len(mpexpenses))]"
   ]
  },
  {
   "cell_type": "code",
   "execution_count": null,
   "metadata": {},
   "outputs": [],
   "source": [
    "# A vectorized version of the same probability model\n",
    "# (Exercise: modify the code to accept μ,σ as arrays)\n",
    "\n",
    "def rx(size=1, p=0.966, μ1=1.797, μ2=2.861, σ1=0.679, σ2=0.116):\n",
    "    k = np.random.choice([1,2], p=[p,1-p], size=size)\n",
    "    loc = np.where(k==1, μ1, μ2)\n",
    "    scale = np.where(k==1, σ1, σ2)\n",
    "    return np.power(10, np.random.normal(loc=loc, scale=scale))\n",
    "\n",
    "xsample = rx(len(mpexpenses))"
   ]
  },
  {
   "cell_type": "code",
   "execution_count": null,
   "metadata": {},
   "outputs": [],
   "source": [
    "# Histogram of raw data, and of a synthetic sample from the probability model\n",
    "\n",
    "fig,(ax1,ax2) = plt.subplots(2,1, figsize=(6,4), sharex='col')\n",
    "ax1.hist(np.log10(mpexpenses), bins=75, alpha=.6, fc='steelblue', ec='steelblue')\n",
    "ax2.hist(np.log10(xsample), bins=75, alpha=.6, fc='steelblue', ec='steelblue')\n",
    "ax1.set_title('data', x=.05, y=.75, fontsize=14, ha='left')\n",
    "ax2.set_title('model output', x=.05, y=.75, fontsize=14, ha='left')\n",
    "ax1.set_xlim([-1,4.5])\n",
    "ax2.set_xlabel('log10(expense claim)', fontsize=14)\n",
    "plt.show()"
   ]
  },
  {
   "cell_type": "markdown",
   "metadata": {},
   "source": [
    "## 1.6 Fitting a generative model"
   ]
  },
  {
   "cell_type": "code",
   "execution_count": null,
   "metadata": {},
   "outputs": [],
   "source": [
    "φ = scipy.stats.norm.pdf\n",
    "\n",
    "def logPr(y, θ):\n",
    "    q,μ1,μ2,τ1,τ2 = θ\n",
    "    p = np.exp(q) / (1 + np.exp(q))\n",
    "    σ1,σ2 = np.exp([τ1,τ2])\n",
    "    lik = p*φ(y, loc=μ1, scale=σ1) + (1-p)*φ(y, loc=μ2, scale=σ2)\n",
    "    return np.log(lik)\n",
    "\n",
    "y = np.log10(mpexpenses)\n",
    "initial_guess = [1, 1.8,2.7, np.log(1.2),np.log(0.5)] # from eyeballing the histogram\n",
    "θhat = scipy.optimize.fmin(lambda θ: -np.sum(logPr(y,θ)), initial_guess, maxiter=5000)"
   ]
  },
  {
   "cell_type": "code",
   "execution_count": null,
   "metadata": {},
   "outputs": [],
   "source": [
    "# Density histogram of the data,\n",
    "# and fitted probability density function\n",
    "\n",
    "y = np.linspace(-1,4,200)\n",
    "lik = np.exp(logPr(y,θhat))\n",
    "\n",
    "fig,ax = plt.subplots(figsize=(6,3))\n",
    "ax.hist(np.log10(mpexpenses), bins=75, density=True, alpha=.4, fc='steelblue', ec='steelblue')\n",
    "ax.plot(y, lik, c='black', linestyle='dashed', linewidth=3)\n",
    "ax.set_xlim([-1,4.5])\n",
    "ax.set_xlabel('log10(expense claim)', fontsize=14)\n",
    "plt.show()"
   ]
  },
  {
   "cell_type": "markdown",
   "metadata": {},
   "source": [
    "## Appendix: scraping the dataset"
   ]
  },
  {
   "cell_type": "code",
   "execution_count": 3,
   "metadata": {},
   "outputs": [],
   "source": [
    "import requests\n",
    "import requests_cache\n",
    "import lxml.html\n",
    "import urllib.parse\n",
    "import re\n",
    "import io\n",
    "import IPython.display\n",
    "import pandas\n",
    "requests_cache.install_cache('mp', backend='memory')"
   ]
  },
  {
   "cell_type": "code",
   "execution_count": 4,
   "metadata": {},
   "outputs": [],
   "source": [
    "URL = 'http://www.theipsa.org.uk/mp-costs/your-mp/'\n",
    "resp = requests.get(URL)\n",
    "doc = lxml.html.fromstring(resp.content)"
   ]
  },
  {
   "cell_type": "code",
   "execution_count": null,
   "metadata": {},
   "outputs": [],
   "source": [
    "mps = doc.xpath('//*[@class=\"mp-letter\"]/ul/li/a')\n",
    "mps = pandas.DataFrame.from_records([(mp.text, mp.get('href')) for mp in mps], columns=['name','url'])\n",
    "print(\"MPs with no url\\n\", mps.loc[mps['url'] == ''])\n",
    "mps = mps.loc[mps['url'] != '']"
   ]
  },
  {
   "cell_type": "code",
   "execution_count": null,
   "metadata": {},
   "outputs": [],
   "source": [
    "res = []\n",
    "for i, (mp_name, url) in enumerate(zip(mps['name'], mps['url'])):\n",
    "    IPython.display.clear_output(wait=True)\n",
    "    print(f\"{i+1}/{len(mps)}: {mp_name}\")\n",
    "\n",
    "    resp = requests.get(urllib.parse.urljoin(URL, url))\n",
    "    doc = lxml.html.fromstring(resp.content)\n",
    "\n",
    "    s = doc.xpath(\"//script[contains(text(),'downloadclaimscsvformp')]\")[0].text\n",
    "    download = re.search(r'window.open\\(\"(?P<url>/download/downloadclaimscsvformp/(?P<id>.+))\"\\)', s)\n",
    "    resp = requests.get(urllib.parse.urljoin(URL, download['url']))\n",
    "\n",
    "    res.append((download['id'], pandas.read_csv(io.BytesIO(resp.content))))"
   ]
  },
  {
   "cell_type": "code",
   "execution_count": 7,
   "metadata": {},
   "outputs": [],
   "source": [
    "df = []\n",
    "for mp_id, mp_df in res:\n",
    "    mp_cleandf = mp_df.loc[~pandas.isnull(mp_df['Claim No.'])].copy(deep=False)\n",
    "    mp_cleandf['mp_id'] = mp_id\n",
    "    df.append(mp_cleandf)\n",
    "df = pandas.concat(df)"
   ]
  },
  {
   "cell_type": "code",
   "execution_count": 8,
   "metadata": {},
   "outputs": [],
   "source": [
    "df.to_csv('mpexpenses.csv', index=False)"
   ]
  },
  {
   "cell_type": "code",
   "execution_count": 12,
   "metadata": {},
   "outputs": [],
   "source": [
    "df2 = df.loc[(df.Year=='18_19') & (df.Category=='Office Costs'),\n",
    "             ['Date','Claim No.',\"MP's Name\", \"MP's Constituency\", \"Category\", \"Expense Type\", \"Short Description\",\n",
    "              \"Details\",\"Amount Claimed\", \"Amount Paid\",\"Amount Not Paid\",\"Amount Repaid\",\"Status\",'mp_id',\"Reason If Not Paid\"]]\n",
    "\n",
    "df2 = pandas.concat([df2.loc[~pandas.isna(df2['Reason If Not Paid'])], df2.loc[pandas.isna(df2['Reason If Not Paid'])]])\n",
    "df2.to_csv('mpexpenses_2018_office.csv', index=False)"
   ]
  }
 ],
 "metadata": {
  "kernelspec": {
   "display_name": "Python 3",
   "language": "python",
   "name": "python3"
  },
  "language_info": {
   "codemirror_mode": {
    "name": "ipython",
    "version": 3
   },
   "file_extension": ".py",
   "mimetype": "text/x-python",
   "name": "python",
   "nbconvert_exporter": "python",
   "pygments_lexer": "ipython3",
   "version": "3.8.2"
  }
 },
 "nbformat": 4,
 "nbformat_minor": 4
}
