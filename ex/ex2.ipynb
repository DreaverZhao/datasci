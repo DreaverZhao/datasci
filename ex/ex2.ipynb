{
 "cells": [
  {
   "cell_type": "code",
   "execution_count": 1,
   "metadata": {},
   "outputs": [],
   "source": [
    "import numpy as np\n",
    "import pandas\n",
    "import matplotlib.pyplot as plt\n",
    "import sklearn.linear_model\n",
    "import scipy.stats"
   ]
  },
  {
   "cell_type": "markdown",
   "metadata": {},
   "source": [
    "# Practical exercise for Example Sheet 2\n",
    "\n",
    "## Confidence interval for climate change"
   ]
  },
  {
   "cell_type": "code",
   "execution_count": 2,
   "metadata": {},
   "outputs": [
    {
     "data": {
      "image/png": "[encoded data removed]",
      "text/plain": [
       "<Figure size 1080x122.4 with 1 Axes>"
      ]
     },
     "metadata": {
      "needs_background": "light"
     },
     "output_type": "display_data"
    }
   ],
   "source": [
    "# Load the dataset\n",
    "url = 'https://www.cl.cam.ac.uk/teaching/2223/DataSci/data/climate.csv'\n",
    "climate = pandas.read_csv(url)\n",
    "climate = climate.loc[(climate.station=='Cambridge') & (climate.yyyy>=1985)].copy()\n",
    "t = climate.yyyy + (climate.mm-1)/12\n",
    "temp = (climate.tmin + climate.tmax)/2\n",
    "\n",
    "fig,ax = plt.subplots(figsize=(15,1.7))\n",
    "ax.scatter(t, temp, s=15, alpha=0.7)\n",
    "ax.set_xlim([1984, 2025])\n",
    "ax.set_ylabel('mean temp')\n",
    "plt.show()"
   ]
  },
  {
   "cell_type": "markdown",
   "metadata": {},
   "source": [
    "* **Step 0.** Write out the likelihood function for the observed data, given all the unknown parameters. I suggest\n",
    "the probabilistic model\n",
    "$$\n",
    "\\texttt{temp} = \\alpha + \\beta_1 \\sin(2\\pi\\texttt{t}) + \\beta_2 \\cos(2\\pi\\texttt{t}) + \\gamma(\\texttt{t}-2000) + N(0,\\sigma^2).\n",
    "$$\n",
    "This is like the linear model from section 2.2 of the notes, but with an explicit probabilistic noise term in the style of section 2.4.\n",
    "\n",
    "* **Step 1.** Invent a prior distribution for the unknown parameters. Take $m$ samples from your prior distribution, to create a list\n",
    "of samples $[(\\alpha_1,\\beta1_1,\\beta2_1,\\gamma_1),\\dots,(\\alpha_m,\\beta1_m,\\beta2_m,\\gamma_m)]$. I'll assume you know $\\sigma$; if you are uncertain about $\\sigma$ then you should include it in the unknown parameters.\n",
    "\n",
    "* **Step 2.** Define a weight $w_i$ for each sample $(\\alpha_i,\\beta1_i,\\beta2_i,\\gamma_i)$, equal to the likelihood function for the observed data. Then rescale your weights so they sum to one.\n",
    "\n",
    "* **Step 3.** Plot a posterior histogram for γ, and then find a confidence interval for it."
   ]
  },
  {
   "cell_type": "code",
   "execution_count": 97,
   "metadata": {},
   "outputs": [],
   "source": [
    "# Step 0.\n",
    "# Define a function logpr(temp, α,β1,β2,γ) which returns the log likelihood of the observed data temp.\n",
    "# Use the probability model in the equation above. Just pluck a value for σ out of thin air.\n",
    "# Also, use scipy.stats.norm.logpdf, rather than typing out the formula yourself.\n",
    "\n",
    "def logpr(temp, α,β1,β2,γ):\n",
    "    # temp is a vector, the parameters are scalars, and the function must return a scalar\n",
    "    t = climate['t']\n",
    "    return ???"
   ]
  },
  {
   "cell_type": "code",
   "execution_count": 93,
   "metadata": {},
   "outputs": [],
   "source": [
    "# Step 1.\n",
    "# Instead of creating a list of 4-tuples, let's create 4 lists of values.\n",
    "\n",
    "m = 20000\n",
    "α_ = ???\n",
    "β1_ = ???\n",
    "β2_ = ???\n",
    "γ_ = ???"
   ]
  },
  {
   "cell_type": "code",
   "execution_count": 98,
   "metadata": {},
   "outputs": [],
   "source": [
    "# Step 2.\n",
    "# This code uses a trick to avoid underflow. See section 7.3 of notes.\n",
    "\n",
    "logw = np.array([logpr(climate['temp'], α,β1,β2,γ) for (α,β1,β2,γ) in zip(α_,β1_,β2_,γ_)])\n",
    "logw = logw - max(logw)\n",
    "w = np.exp(logw)\n",
    "w = w / np.sum(w)"
   ]
  },
  {
   "cell_type": "code",
   "execution_count": null,
   "metadata": {},
   "outputs": [],
   "source": [
    "# Step 3.\n",
    "\n",
    "# Plot a histogram of the posterior density.\n",
    "fig,ax = plt.subplots()\n",
    "ax.hist(γ_*100, weights=w, density=True, bins=np.linspace(0,8,60))\n",
    "\n",
    "# Find a posterior 95% confidence interval using γ_ and w\n",
    "# (see section 7.4 of notes)\n",
    "lo,hi = ???,???\n",
    "\n",
    "ax.axvline(x=lo*100, linestyle='--', color='black')\n",
    "ax.axvline(x=hi*100, linestyle='--', color='black')\n",
    "ax.set_title(f\"Temperature increase ≈ [{lo*100:.3},{hi*100:.3}] °C/century\")\n",
    "\n",
    "plt.show()"
   ]
  }
 ],
 "metadata": {
  "kernelspec": {
   "display_name": "Python 3",
   "language": "python",
   "name": "python3"
  },
  "language_info": {
   "codemirror_mode": {
    "name": "ipython",
    "version": 3
   },
   "file_extension": ".py",
   "mimetype": "text/x-python",
   "name": "python",
   "nbconvert_exporter": "python",
   "pygments_lexer": "ipython3",
   "version": "3.8.10"
  }
 },
 "nbformat": 4,
 "nbformat_minor": 4
}
