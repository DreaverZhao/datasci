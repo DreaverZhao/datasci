{
 "cells": [
  {
   "cell_type": "code",
   "execution_count": 4,
   "metadata": {},
   "outputs": [],
   "source": [
    "import numpy as np\n",
    "import scipy.optimize\n",
    "import matplotlib.pyplot as plt"
   ]
  },
  {
   "cell_type": "markdown",
   "metadata": {},
   "source": [
    "# Numerical optimization with scipy"
   ]
  },
  {
   "cell_type": "code",
   "execution_count": 14,
   "metadata": {},
   "outputs": [
    {
     "data": {
      "image/png": "[encoded data removed]",
      "text/plain": [
       "<Figure size 432x288 with 1 Axes>"
      ]
     },
     "metadata": {
      "needs_background": "light"
     },
     "output_type": "display_data"
    },
    {
     "name": "stdout",
     "output_type": "stream",
     "text": [
      "Optimization terminated successfully.\n",
      "         Current function value: -0.139702\n",
      "         Iterations: 13\n",
      "         Function evaluations: 26\n"
     ]
    },
    {
     "data": {
      "text/plain": [
       "array([1.73204987])"
      ]
     },
     "execution_count": 14,
     "metadata": {},
     "output_type": "execute_result"
    }
   ],
   "source": [
    "π = np.pi\n",
    "\n",
    "def f(τ):\n",
    "    σ = np.exp(τ)\n",
    "    return np.exp(-3/2/np.power(σ,2)) / np.sqrt(2*π*np.power(σ,2))\n",
    "\n",
    "fig,ax = plt.subplots()\n",
    "σ = np.linspace(.01,8,50)\n",
    "ax.plot(σ, f(np.log(σ)))\n",
    "ax.set_xlabel('σ')\n",
    "plt.show()\n",
    "\n",
    "τhat = scipy.optimize.fmin(lambda τ: -f(τ), np.log(2))\n",
    "σhat = np.exp(τhat)\n",
    "σhat"
   ]
  },
  {
   "cell_type": "code",
   "execution_count": 17,
   "metadata": {},
   "outputs": [
    {
     "name": "stdout",
     "output_type": "stream",
     "text": [
      "Optimization terminated successfully.\n",
      "         Current function value: 1.029653\n",
      "         Iterations: 75\n",
      "         Function evaluations: 140\n"
     ]
    }
   ],
   "source": [
    "def f(θ):\n",
    "    s1,s2,s3 = θ\n",
    "    p = np.exp([s1,s2,s3])\n",
    "    p1,p2,p3 = p / np.sum(p)\n",
    "    return 0.2*np.log(p1) + 0.5*np.log(p2) + 0.3*np.log(p3)\n",
    "\n",
    "s1,s2,s3 = scipy.optimize.fmin(lambda θ: -f(θ), [0,0,0])\n",
    "p = np.exp([s1,s2,s3])\n",
    "p = p / np.sum(p)"
   ]
  },
  {
   "cell_type": "code",
   "execution_count": null,
   "metadata": {},
   "outputs": [],
   "source": []
  }
 ],
 "metadata": {
  "kernelspec": {
   "display_name": "Python 3",
   "language": "python",
   "name": "python3"
  },
  "language_info": {
   "codemirror_mode": {
    "name": "ipython",
    "version": 3
   },
   "file_extension": ".py",
   "mimetype": "text/x-python",
   "name": "python",
   "nbconvert_exporter": "python",
   "pygments_lexer": "ipython3",
   "version": "3.8.2"
  }
 },
 "nbformat": 4,
 "nbformat_minor": 4
}
