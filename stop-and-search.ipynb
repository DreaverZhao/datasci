{
 "cells": [
  {
   "cell_type": "code",
   "execution_count": 1,
   "metadata": {},
   "outputs": [],
   "source": [
    "import numpy as np\n",
    "import pandas\n",
    "import requests, requests_cache, urllib, io\n",
    "import json, re\n",
    "import collections, numbers\n",
    "requests_cache.install_cache('data/cache')\n",
    "BASE_URL = 'https://data.police.uk/api/'"
   ]
  },
  {
   "cell_type": "code",
   "execution_count": null,
   "metadata": {},
   "outputs": [],
   "source": [
    "# Fetch all available forces*dates, and cache them\n",
    "availability_url = urllib.parse.urljoin(BASE_URL, 'crimes-street-dates')\n",
    "availability = requests.get(availability_url).json()\n",
    "for df in availability:\n",
    "    date = df['date']\n",
    "    print(date)\n",
    "    for force in df['stop-and-search']:\n",
    "        p = [('force',force), ('date',date)]\n",
    "        url = urllib.parse.urljoin(BASE_URL, 'stops-force') + '?' + urllib.parse.urlencode(p)\n",
    "        requests.get(url)"
   ]
  },
  {
   "cell_type": "code",
   "execution_count": 9,
   "metadata": {},
   "outputs": [],
   "source": [
    "# Fetch a list of all forces * dates\n",
    "availability_url = urllib.parse.urljoin(BASE_URL, 'crimes-street-dates')\n",
    "availability = requests.get(availability_url).json()\n",
    "availability = [(force, df['date']) for df in availability for force in df['stop-and-search']]\n",
    "\n",
    "def get_dataframe(force, date):\n",
    "    p = [('force',force), ('date',date)]\n",
    "    url = urllib.parse.urljoin(BASE_URL, 'stops-force') + '?' + urllib.parse.urlencode(p)\n",
    "    response = requests.get(url)\n",
    "    df = response.json()\n",
    "    df = pandas.json_normalize(df, sep='_')\n",
    "    df.insert(0, 'month', date)\n",
    "    df.insert(0, 'force', force)\n",
    "    return df\n",
    "df = [get_dataframe(*x) for x in availability]"
   ]
  },
  {
   "cell_type": "code",
   "execution_count": 10,
   "metadata": {},
   "outputs": [],
   "source": [
    "police = pandas.concat(df, axis=0, ignore_index=True, sort=False)"
   ]
  },
  {
   "cell_type": "code",
   "execution_count": 11,
   "metadata": {},
   "outputs": [],
   "source": [
    "police.to_csv('data/stop-and-search.csv', index=False)"
   ]
  },
  {
   "cell_type": "markdown",
   "metadata": {},
   "source": [
    "## Basic tabulations"
   ]
  },
  {
   "cell_type": "code",
   "execution_count": 17,
   "metadata": {},
   "outputs": [
    {
     "name": "stdout",
     "output_type": "stream",
     "text": [
      "officer_defined_ethnicity\n",
      "Asian    151411\n",
      "Black    288736\n",
      "Mixed      2563\n",
      "Other     34755\n",
      "White    634456\n",
      "dtype: int64\n",
      "Missing values: 93172\n"
     ]
    }
   ],
   "source": [
    "print(police.groupby('officer_defined_ethnicity').apply(len))\n",
    "print('Missing values:', np.sum(pandas.isna(police['officer_defined_ethnicity'])))"
   ]
  },
  {
   "cell_type": "code",
   "execution_count": 18,
   "metadata": {},
   "outputs": [
    {
     "name": "stdout",
     "output_type": "stream",
     "text": [
      "outcome\n",
      "False                                                           117363\n",
      "                                                                 24618\n",
      "A no further action disposal                                    744401\n",
      "Arrest                                                          138414\n",
      "Article found - Detailed outcome unavailable                      2773\n",
      "Caution (simple or conditional)                                   4658\n",
      "Community resolution                                             57293\n",
      "Khat or Cannabis warning                                         26972\n",
      "Local resolution                                                  4742\n",
      "Offender cautioned                                                 791\n",
      "Offender given drugs possession warning                          12866\n",
      "Offender given penalty notice                                     2856\n",
      "Penalty Notice for Disorder                                      15468\n",
      "Summons / charged by post                                        17626\n",
      "Suspect arrested                                                 31217\n",
      "Suspect summonsed to court                                        3019\n",
      "Suspected psychoactive substances seized - No further action        16\n",
      "dtype: int64\n",
      "Missing values: 0\n"
     ]
    }
   ],
   "source": [
    "print(police.groupby('outcome').apply(len))\n",
    "print('Missing values:', np.sum(pandas.isna(police['outcome'])))"
   ]
  },
  {
   "cell_type": "code",
   "execution_count": 29,
   "metadata": {},
   "outputs": [
    {
     "data": {
      "text/html": [
       "<div>\n",
       "<style scoped>\n",
       "    .dataframe tbody tr th:only-of-type {\n",
       "        vertical-align: middle;\n",
       "    }\n",
       "\n",
       "    .dataframe tbody tr th {\n",
       "        vertical-align: top;\n",
       "    }\n",
       "\n",
       "    .dataframe thead th {\n",
       "        text-align: right;\n",
       "    }\n",
       "</style>\n",
       "<table border=\"1\" class=\"dataframe\">\n",
       "  <thead>\n",
       "    <tr style=\"text-align: right;\">\n",
       "      <th>officer_defined_ethnicity</th>\n",
       "      <th>Asian</th>\n",
       "      <th>Black</th>\n",
       "      <th>Mixed</th>\n",
       "      <th>Other</th>\n",
       "      <th>White</th>\n",
       "    </tr>\n",
       "    <tr>\n",
       "      <th>y</th>\n",
       "      <th></th>\n",
       "      <th></th>\n",
       "      <th></th>\n",
       "      <th></th>\n",
       "      <th></th>\n",
       "    </tr>\n",
       "  </thead>\n",
       "  <tbody>\n",
       "    <tr>\n",
       "      <th>find</th>\n",
       "      <td>13718</td>\n",
       "      <td>30831</td>\n",
       "      <td>91</td>\n",
       "      <td>3305</td>\n",
       "      <td>59055</td>\n",
       "    </tr>\n",
       "    <tr>\n",
       "      <th>no-find</th>\n",
       "      <td>135019</td>\n",
       "      <td>256287</td>\n",
       "      <td>2428</td>\n",
       "      <td>31064</td>\n",
       "      <td>562717</td>\n",
       "    </tr>\n",
       "  </tbody>\n",
       "</table>\n",
       "</div>"
      ],
      "text/plain": [
       "officer_defined_ethnicity   Asian   Black  Mixed  Other   White\n",
       "y                                                              \n",
       "find                        13718   30831     91   3305   59055\n",
       "no-find                    135019  256287   2428  31064  562717"
      ]
     },
     "execution_count": 29,
     "metadata": {},
     "output_type": "execute_result"
    }
   ],
   "source": [
    "# Let's separate outcome=False versus outcome=<any other>,\n",
    "# and discard rows where outcome is left blank.\n",
    "# (Pandas.groupby will also discard rows where the groupby columns are missing.)\n",
    "\n",
    "police['y'] = np.where(police['outcome']==False, 'find', 'no-find')\n",
    "ok = police['outcome'] != ''\n",
    "\n",
    "police.loc[ok].groupby(['y','officer_defined_ethnicity']).apply(len).unstack()"
   ]
  }
 ],
 "metadata": {
  "kernelspec": {
   "display_name": "Python 3",
   "language": "python",
   "name": "python3"
  },
  "language_info": {
   "codemirror_mode": {
    "name": "ipython",
    "version": 3
   },
   "file_extension": ".py",
   "mimetype": "text/x-python",
   "name": "python",
   "nbconvert_exporter": "python",
   "pygments_lexer": "ipython3",
   "version": "3.8.2"
  }
 },
 "nbformat": 4,
 "nbformat_minor": 2
}
