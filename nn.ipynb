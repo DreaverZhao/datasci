{
 "cells": [
  {
   "cell_type": "markdown",
   "metadata": {},
   "source": [
    "# Neural networks as probability models\n",
    "\n",
    "* [xkcd dataset](#xkcd-dataset)\n",
    "** [Least squares regression](#Least-squares-regression)\n",
    "** [Gaussian regression](#Gaussian-regression)\n",
    "* [Classification (MNIST dataset)](#Classification-(MNIST-dataset))\n",
    "** [Simple classifier](#Simple-classifier)\n",
    "* [Generation with RNN (dataset of English names)](#Generation-with-RNN-(dataset-of-English-names))"
   ]
  },
  {
   "cell_type": "code",
   "execution_count": 1,
   "metadata": {},
   "outputs": [],
   "source": [
    "import numpy as np\n",
    "import pandas\n",
    "import matplotlib.pyplot as plt\n",
    "import matplotlib\n",
    "import torch\n",
    "import torch.optim as optim\n",
    "import torch.nn as nn\n",
    "import torchvision\n",
    "import IPython"
   ]
  },
  {
   "cell_type": "code",
   "execution_count": 2,
   "metadata": {},
   "outputs": [],
   "source": [
    "# Utility to streamline interactive start-and-stop optimization.\n",
    "# See the examples below for its use.\n",
    "\n",
    "import signal\n",
    "class Interruptable():\n",
    "    class Breakout(Exception):\n",
    "        pass\n",
    "    def __init__(self):\n",
    "        self.interrupted = False\n",
    "        self.orig_handler = None\n",
    "    def __enter__(self):\n",
    "        self.orig_handler = signal.getsignal(signal.SIGINT)\n",
    "        signal.signal(signal.SIGINT, self.handle)\n",
    "        return self.check\n",
    "    def __exit__(self, exc_type, exc_val, exc_tb):\n",
    "        signal.signal(signal.SIGINT, self.orig_handler)\n",
    "        if exc_type == Interruptable.Breakout:\n",
    "            print(' stopped')\n",
    "            return True\n",
    "        return False\n",
    "    def handle(self, signal, frame):\n",
    "        if self.interrupted:\n",
    "            self.orig_handler(signal, frame)\n",
    "        print('Interrupting ...', end='')\n",
    "        self.interrupted = True\n",
    "    def check(self):\n",
    "        if self.interrupted:\n",
    "            raise Interruptable.Breakout"
   ]
  },
  {
   "cell_type": "markdown",
   "metadata": {},
   "source": [
    "# xkcd dataset"
   ]
  },
  {
   "cell_type": "code",
   "execution_count": 3,
   "metadata": {},
   "outputs": [
    {
     "data": {
      "image/png": "[encoded data removed]",
      "text/plain": [
       "<Figure size 432x288 with 1 Axes>"
      ]
     },
     "metadata": {
      "needs_background": "light"
     },
     "output_type": "display_data"
    }
   ],
   "source": [
    "# The data behind https://xkcd.com/2048/\n",
    "url = 'https://www.cl.cam.ac.uk/teaching/2122/DataSci/data/xkcd.csv'\n",
    "xkcd = pandas.read_csv(url)\n",
    "plt.scatter(xkcd.x, xkcd.y)\n",
    "plt.show()"
   ]
  },
  {
   "cell_type": "markdown",
   "metadata": {},
   "source": [
    "## Least squares regression"
   ]
  },
  {
   "cell_type": "code",
   "execution_count": 4,
   "metadata": {},
   "outputs": [],
   "source": [
    "# This defines an arbitrary messy function that (we hope) can approximate the data reasonably well.\n",
    "# The neural network layers (nn.Linear) all have their own parameters, which need to be optimized.\n",
    "\n",
    "class Wiggle(nn.Module):\n",
    "    def __init__(self):\n",
    "        super().__init__()\n",
    "        self.f = nn.Sequential(\n",
    "            nn.Linear(1,4),\n",
    "            nn.LeakyReLU(),\n",
    "            nn.Linear(4,20),\n",
    "            nn.LeakyReLU(),\n",
    "            nn.Linear(20,20),\n",
    "            nn.LeakyReLU(),\n",
    "            nn.Linear(20,1)\n",
    "        )\n",
    "    def forward(self, x):\n",
    "        return self.f(x)"
   ]
  },
  {
   "cell_type": "code",
   "execution_count": 5,
   "metadata": {},
   "outputs": [],
   "source": [
    "x,y = torch.tensor(xkcd.x, dtype=torch.float)[:,None], torch.tensor(xkcd.y, dtype=torch.float)[:,None]\n",
    "\n",
    "myline = Wiggle()\n",
    "epoch = 0"
   ]
  },
  {
   "cell_type": "code",
   "execution_count": 6,
   "metadata": {},
   "outputs": [
    {
     "name": "stdout",
     "output_type": "stream",
     "text": [
      "epoch=15200 loss=1.757\n"
     ]
    },
    {
     "data": {
      "image/png": "[encoded data removed]",
      "text/plain": [
       "<Figure size 432x288 with 1 Axes>"
      ]
     },
     "metadata": {
      "needs_background": "light"
     },
     "output_type": "display_data"
    },
    {
     "name": "stdout",
     "output_type": "stream",
     "text": [
      "Interrupting ... stopped\n"
     ]
    }
   ],
   "source": [
    "optimizer = optim.Adam(myline.parameters())\n",
    "\n",
    "with Interruptable() as check_interrupted:\n",
    "    while True:\n",
    "        check_interrupted()\n",
    "        optimizer.zero_grad()\n",
    "        loss = torch.mean(torch.pow(y - myline(x), 2))\n",
    "        loss.backward()\n",
    "        optimizer.step()\n",
    "        epoch += 1\n",
    "\n",
    "        if epoch % 200 == 0:\n",
    "            IPython.display.clear_output(wait=True)\n",
    "            plt.scatter(x, y, color='black', marker='+', alpha=.8)\n",
    "            with torch.no_grad():\n",
    "                xnew = torch.linspace(.8,9.2,50)[:,None]\n",
    "                plt.plot(xnew, myline.f(xnew))\n",
    "            print(f'epoch={epoch} loss={loss.item():.4}')\n",
    "            plt.show()"
   ]
  },
  {
   "cell_type": "markdown",
   "metadata": {},
   "source": [
    "To save the model parameters to a file, and to load them:\n",
    "```\n",
    "torch.save(model.state_dict(), 'models/wiggle.pt')\n",
    "\n",
    "myline = Wiggle()\n",
    "myline.load_state_dict(torch.load('models/wiggle.pt'))\n",
    "```"
   ]
  },
  {
   "cell_type": "markdown",
   "metadata": {},
   "source": [
    "## Gaussian regression"
   ]
  },
  {
   "cell_type": "code",
   "execution_count": 7,
   "metadata": {},
   "outputs": [],
   "source": [
    "# This model uses the wiggly line class Wiggle defined above\n",
    "\n",
    "class RWiggle(nn.Module):\n",
    "    def __init__(self):\n",
    "        super().__init__()\n",
    "        self.μ = Wiggle()\n",
    "        self.σ = nn.Parameter(torch.tensor(1.0))\n",
    "    def forward(self, y, x):\n",
    "        σ2 = torch.pow(self.σ, 2)\n",
    "        return - 0.5*torch.log(2*np.pi*σ2) - torch.pow(y - self.μ(x), 2) / (2*σ2)"
   ]
  },
  {
   "cell_type": "code",
   "execution_count": 8,
   "metadata": {},
   "outputs": [],
   "source": [
    "def plot_loglik(rwiggle,ax):\n",
    "    G = 100\n",
    "    mx,Mx,my,My = 0,10,0,10\n",
    "    xx,yy = np.meshgrid(np.linspace(mx,Mx,G), np.linspace(my,My,G))\n",
    "    xx,yy = torch.tensor(xx, dtype=torch.float).reshape(-1,1), torch.tensor(yy, dtype=torch.float).reshape(-1,1)\n",
    "    with torch.no_grad():\n",
    "        p = torch.exp(rwiggle(yy,xx)).detach().numpy()\n",
    "    pp = p.reshape(G,G)\n",
    "\n",
    "    b = plt.get_cmap('Blues')\n",
    "    cols = np.row_stack([[[1,1,1,1]], b(np.linspace(0,1,9))])\n",
    "    cols = [[1,1,1,1], b(.2), b(.4), b(.6), b(.7), b(.8), b(.9)]\n",
    "    bluesw = matplotlib.colors.LinearSegmentedColormap.from_list('BluesW', cols)  \n",
    "    \n",
    "    ax.imshow(pp, extent=(mx,Mx,my,My), origin='lower', cmap=bluesw, alpha=.4)\n",
    "    \n",
    "    with torch.no_grad():\n",
    "        xnew = torch.linspace(.8,9.2,50)[:,None]\n",
    "        ax.plot(xnew, rwiggle.μ(xnew), color='steelblue')"
   ]
  },
  {
   "cell_type": "code",
   "execution_count": 9,
   "metadata": {},
   "outputs": [],
   "source": [
    "x,y = torch.tensor(xkcd.x, dtype=torch.float)[:,None], torch.tensor(xkcd.y, dtype=torch.float)[:,None]\n",
    "\n",
    "rwiggle = RWiggle()\n",
    "rwiggle.μ.load_state_dict(myline.state_dict()) # copy the parameters for μ from what we trained with least squares\n",
    "epoch = 0"
   ]
  },
  {
   "cell_type": "code",
   "execution_count": 10,
   "metadata": {},
   "outputs": [
    {
     "name": "stdout",
     "output_type": "stream",
     "text": [
      "epoch=11400 loglik=-1.499 σ=1.084\n"
     ]
    },
    {
     "data": {
      "image/png": "[encoded data removed]",
      "text/plain": [
       "<Figure size 432x288 with 1 Axes>"
      ]
     },
     "metadata": {
      "needs_background": "light"
     },
     "output_type": "display_data"
    },
    {
     "name": "stdout",
     "output_type": "stream",
     "text": [
      "Interrupting ... stopped\n"
     ]
    }
   ],
   "source": [
    "optimizer = optim.Adam(rwiggle.parameters())\n",
    "\n",
    "with Interruptable() as check_interrupted:\n",
    "    while True:\n",
    "        check_interrupted()\n",
    "        optimizer.zero_grad()\n",
    "        loglik = torch.mean(rwiggle(y, x))\n",
    "        (-loglik).backward()\n",
    "        optimizer.step()\n",
    "        epoch += 1\n",
    "\n",
    "        if epoch % 200 == 0:\n",
    "            IPython.display.clear_output(wait=True)\n",
    "            plt.scatter(x, y, color='black', marker='+', alpha=.8)\n",
    "            plot_loglik(rwiggle, plt.gca())\n",
    "            print(f'epoch={epoch} loglik={loglik.item():.4} σ={rwiggle.σ.item():.4}')\n",
    "            plt.show()"
   ]
  },
  {
   "cell_type": "markdown",
   "metadata": {},
   "source": [
    "# Classification (MNIST dataset)"
   ]
  },
  {
   "cell_type": "code",
   "execution_count": 12,
   "metadata": {},
   "outputs": [],
   "source": [
    "# PyTorch comes with a simple wrapper around the MNIST dataset.\n",
    "# The dataset consists of a pair of (numpy_array, int) representing images and labels.\n",
    "# We can pull out (image,label) pairs using e.g.\n",
    "#   img,lbl = mnist[0]\n",
    "#   img,lbl = next(iter(mnist))\n",
    "\n",
    "mnist = torchvision.datasets.MNIST(\n",
    "    root = 'pytorch-data/',    # where to put the files\n",
    "    download = True,   # if files aren't here, download them\n",
    "    train = True,      # whether to import the test or the train subset\n",
    "    # PyTorch uses PyTorch tensors internally, not numpy arrays, so convert them.\n",
    "    transform = torchvision.transforms.ToTensor()\n",
    ")\n",
    "\n",
    "\n",
    "# Very many PyTorch building blocks assume that the data comes in batches.\n",
    "# The DataLoader converts the full mnist list [(img,lbl),...] into batches\n",
    "#     [(img_batch,lbl_batch), ...]\n",
    "# where each img_batch is an array with an extra dimension prepended.\n",
    "\n",
    "mnist_batched = torch.utils.data.DataLoader(mnist, batch_size=5)"
   ]
  },
  {
   "cell_type": "code",
   "execution_count": 13,
   "metadata": {},
   "outputs": [
    {
     "data": {
      "image/png": "[encoded data removed]",
      "text/plain": [
       "<Figure size 432x288 with 1 Axes>"
      ]
     },
     "metadata": {},
     "output_type": "display_data"
    },
    {
     "data": {
      "text/plain": [
       "[4950, 33794, 2040, 54612, 38157, 49157]"
      ]
     },
     "execution_count": 13,
     "metadata": {},
     "output_type": "execute_result"
    }
   ],
   "source": [
    "# Look at a few sample images\n",
    "\n",
    "import collections\n",
    "img_i = collections.defaultdict(list)\n",
    "for i,(_,k) in enumerate(mnist):\n",
    "    img_i[k].append(i)\n",
    "    \n",
    "rng = np.random.default_rng()\n",
    "show_i = [rng.choice(img_i[k]) for k in [1,6,1,8,0,3]]\n",
    "show = torch.stack([mnist[i][0] for i in show_i])\n",
    "x = torchvision.utils.make_grid(show, nrow=6, pad_value=1)\n",
    "plt.imshow(x.numpy().transpose((1,2,0)))\n",
    "plt.xticks([])\n",
    "plt.yticks([])\n",
    "plt.axis('off')\n",
    "plt.show()\n",
    "show_i"
   ]
  },
  {
   "cell_type": "code",
   "execution_count": 14,
   "metadata": {},
   "outputs": [],
   "source": [
    "# When I'm training a neural network, it's nice to be able to interrupt training,\n",
    "# inspect, tweak, and resume training. This function enumerate_cycle defines a\n",
    "# Python generator which cycles through a dataset over and over again,\n",
    "# and because it's a generator it can store which epoch it's on. Thus, when you \n",
    "# interrupt and resume, you don't need to store an extra state variable \"which epoch\n",
    "# am I on\".\n",
    "\n",
    "def enumerate_cycle(g, shuffle=True):\n",
    "    epoch = 0\n",
    "    while True:\n",
    "        if shuffle:\n",
    "            for i,j in enumerate(np.random.permutation(len(g))):\n",
    "                yield (epoch,i), g[j]\n",
    "        else:\n",
    "            for i,x in enumerate(g):\n",
    "                yield (epoch,i), x\n",
    "        epoch = epoch + 1"
   ]
  },
  {
   "cell_type": "markdown",
   "metadata": {},
   "source": [
    "## Simple classifier"
   ]
  },
  {
   "cell_type": "code",
   "execution_count": 15,
   "metadata": {},
   "outputs": [],
   "source": [
    "class ImageClassifier1(nn.Module):\n",
    "    def __init__(self):\n",
    "        super().__init__()\n",
    "        self.f = nn.Sequential(       # input shape [B*1*28*28]\n",
    "            nn.Conv2d(1, 32, 3, 1),   # -> [B*32*26*26]\n",
    "            nn.ReLU(),\n",
    "            nn.Conv2d(32, 64, 3, 1),  # -> [B*64*24*24]\n",
    "            nn.MaxPool2d(2),          # -> [B*64*12*12]\n",
    "            nn.Dropout2d(0.25),\n",
    "            nn.Flatten(1),            # -> [B*9216]\n",
    "            nn.Linear(9216, 128),     # -> [B*128]\n",
    "            nn.ReLU(),\n",
    "            nn.Dropout2d(0.5),\n",
    "            nn.Linear(128, 10)        # -> [B*10]\n",
    "        )\n",
    "\n",
    "    # compute log likelihood for a batch of data\n",
    "    def forward(self, x, y):          # x.shape [B*1*28*28], y.shape [B], output.shape [B]\n",
    "        return - nn.functional.cross_entropy(self.f(x), y, reduction='none')\n",
    "\n",
    "    # compute the class probabilities for a single image\n",
    "    def classify(self, x):  # input: [1*28*28] array\n",
    "        q = self.f(torch.as_tensor(x)[None,...])[0]\n",
    "        return nn.functional.softmax(q, dim=0)"
   ]
  },
  {
   "cell_type": "code",
   "execution_count": 16,
   "metadata": {},
   "outputs": [],
   "source": [
    "model = ImageClassifier1()\n",
    "epoch = 0"
   ]
  },
  {
   "cell_type": "code",
   "execution_count": 17,
   "metadata": {},
   "outputs": [
    {
     "name": "stdout",
     "output_type": "stream",
     "text": [
      "epoch=0 batch=1125/12000 loglik=-0.14967447519302368\n",
      "Interrupting ... stopped\n"
     ]
    }
   ],
   "source": [
    "model.train(mode=True) # put it into training mode (turns dropout on)\n",
    "optimizer = optim.Adam(model.parameters())\n",
    "\n",
    "with Interruptable() as check_interrupted:\n",
    "    for batch_num, (imgs,lbls) in enumerate(mnist_batched):\n",
    "        check_interrupted()\n",
    "        optimizer.zero_grad()\n",
    "        loglik = model(imgs, lbls)\n",
    "        e = - torch.mean(loglik)\n",
    "        e.backward()\n",
    "        optimizer.step()\n",
    "\n",
    "        if batch_num % 25 == 0:\n",
    "            IPython.display.clear_output(wait=True)\n",
    "            print(f'epoch={epoch} batch={batch_num}/{len(mnist_batched)} loglik={-e.item()}')\n",
    "    epoch += 1"
   ]
  },
  {
   "cell_type": "code",
   "execution_count": 18,
   "metadata": {},
   "outputs": [
    {
     "data": {
      "image/png": "[encoded data removed]",
      "text/plain": [
       "<Figure size 432x288 with 2 Axes>"
      ]
     },
     "metadata": {
      "needs_background": "light"
     },
     "output_type": "display_data"
    }
   ],
   "source": [
    "model.train(mode=False)  # put it into execution mode (turns dropout off)\n",
    "img,lbl = mnist[14028]\n",
    "p = model.classify(img).detach().numpy()\n",
    "\n",
    "fig,(ax1,ax2) = plt.subplots(1,2)\n",
    "ax1.imshow(img[0], cmap='gray')\n",
    "ax2.barh(np.arange(10), p)\n",
    "ax2.set_yticks(np.arange(10))\n",
    "ax1.set_title(f'Official label {lbl}')\n",
    "plt.show()"
   ]
  },
  {
   "cell_type": "markdown",
   "metadata": {},
   "source": [
    "# Generation with RNN (dataset of English names)"
   ]
  },
  {
   "cell_type": "code",
   "execution_count": 22,
   "metadata": {},
   "outputs": [
    {
     "data": {
      "text/plain": [
       "2420    norbury\n",
       "90      althoff\n",
       "3169       tarr\n",
       "2671       pike\n",
       "657      denney\n",
       "Name: X, dtype: object"
      ]
     },
     "execution_count": 22,
     "metadata": {},
     "output_type": "execute_result"
    }
   ],
   "source": [
    "url = \"https://www.cl.cam.ac.uk/teaching/2122/DataSci/data/english_names.txt\"\n",
    "names = pandas.read_table(url, header=None, names=['X']).X.str.lower()\n",
    "\n",
    "names.sample(5)"
   ]
  },
  {
   "cell_type": "code",
   "execution_count": 40,
   "metadata": {},
   "outputs": [],
   "source": [
    "# The neural network recurrent unit (called f_θ in lecture notes) takes in a character\n",
    "# and a hidden state. In order for a neural network to accept a character, the character\n",
    "# has to be encoded into a number or vector. Here we're creating one-hot coded versions\n",
    "# of the names: each item in names_oh is an array with shape (name_len × alphabet_len),\n",
    "#\n",
    "#      names_oh[i][l,a] = Indicator[name i has character a in position l]\n",
    "\n",
    "alphabet = list(set(''.join(names)))\n",
    "alphabet_n = {c:i+1 for i,c in enumerate(alphabet)}\n",
    "A = len(alphabet)+1\n",
    "\n",
    "names_n = [[0] + [alphabet_n[x] for x in name] + [0] for name in names]\n",
    "names_n = [torch.tensor(n) for n in names_n]\n",
    "names_oh = [nn.functional.one_hot(n, num_classes=A).float() for n in names_n]\n",
    "\n",
    "names_oh,names_oh_holdout = names_oh[:3000], names_oh[3000:]"
   ]
  },
  {
   "cell_type": "code",
   "execution_count": 41,
   "metadata": {},
   "outputs": [],
   "source": [
    "# A simple model for a random character sequence.\n",
    "# See printed lecture notes for an explanation.\n",
    "\n",
    "class RSeq(nn.Module):\n",
    "    def __init__(self, H=50, L=2):\n",
    "        super().__init__()\n",
    "        self.rnn = nn.GRU(input_size=A, hidden_size=H, num_layers=L, dropout=.05)\n",
    "        self.map = nn.Linear(self.rnn.hidden_size, A)\n",
    "    \n",
    "    def f(self, x, v=None):  # x.shape=m*b*A, v.shape=L*b*H\n",
    "        assert x.shape[1]==1, \"This code only works with batch_size=1\"\n",
    "        y,v = self.rnn(x, v) # y.shape=m*b*H, v.shape=L*b*H\n",
    "        z = self.map(y)      # z.shape=m*b*A\n",
    "        logp = nn.functional.log_softmax(z, dim=2) # logp.shape=m*b*A\n",
    "        return v,logp\n",
    "    \n",
    "    def forward(self, x): # x.shape = (n+1)*b*A\n",
    "        _,logp = self.f(x[:-1])      # logp.shape = n*b*A\n",
    "        return torch.sum(logp * x[1:], dim=(0,2)) # shape = b\n",
    "    \n",
    "    def generate(self):\n",
    "        is_training = self.training\n",
    "        self.train(False)\n",
    "        with torch.no_grad():\n",
    "            res = ''\n",
    "            x_n,v = 0,None\n",
    "            while True:\n",
    "                x_n = torch.tensor(x_n).reshape(1,1)\n",
    "                x_oh = nn.functional.one_hot(x_n, num_classes=A).float()\n",
    "                v,logp = model.f(x_oh, v)\n",
    "                p = torch.exp(logp[0,0])\n",
    "                x_n = np.random.choice(A, p=p.detach().numpy())\n",
    "                if x_n == 0: break\n",
    "                res += alphabet[x_n-1]\n",
    "        self.train(is_training)\n",
    "        return res"
   ]
  },
  {
   "cell_type": "code",
   "execution_count": 34,
   "metadata": {},
   "outputs": [],
   "source": [
    "model = RSeq()\n",
    "model.train(True)\n",
    "optimizer = optim.Adam(model.parameters())\n",
    "ei_names = enumerate_cycle(np.random.permutation(len(names_oh)))\n",
    "loss_history = []"
   ]
  },
  {
   "cell_type": "code",
   "execution_count": 44,
   "metadata": {},
   "outputs": [
    {
     "name": "stdout",
     "output_type": "stream",
     "text": [
      "epoch=4 item=1040/3000 loglik.e=-20.28 loglik(mackay)=-13.02 name=polb\n",
      "Interrupting ... stopped\n"
     ]
    }
   ],
   "source": [
    "with Interruptable() as check_interrupted:\n",
    "    for (epoch,i),j in ei_names:\n",
    "        check_interrupted()\n",
    "        optimizer.zero_grad()\n",
    "        loglik = model(names_oh[j][:,None,:])\n",
    "        (-loglik).backward()\n",
    "        optimizer.step()\n",
    "\n",
    "        if i % 20 == 0:\n",
    "            IPython.display.clear_output(wait=True)\n",
    "            with torch.no_grad():\n",
    "                eval_loglik = np.mean([model(n[:,None,:]).item() for n in names_oh_holdout])\n",
    "            print(f'epoch={epoch} item={i}/{len(names_oh)} loglik.e={eval_loglik:.4} loglik({names[j]})={loglik.item():.4} name={model.generate()}')\n",
    "            loss_history.append((epoch+i/len(names_oh), loglik.item(), eval_loglik))"
   ]
  },
  {
   "cell_type": "code",
   "execution_count": 45,
   "metadata": {},
   "outputs": [
    {
     "data": {
      "image/png": "[encoded data removed]",
      "text/plain": [
       "<Figure size 432x144 with 1 Axes>"
      ]
     },
     "metadata": {
      "needs_background": "light"
     },
     "output_type": "display_data"
    }
   ],
   "source": [
    "# Simple plot of the training loss\n",
    "\n",
    "df = pandas.DataFrame.from_records(loss_history, columns=['epoch','loglik_tr','loglik_eval'])\n",
    "fig,ax = plt.subplots(figsize=(6,2))\n",
    "ax.plot(df.epoch, df.loglik_tr.ewm(com=8).mean(), linewidth=1, label='training') # ewm computes moving average\n",
    "ax.plot(df.epoch, df.loglik_eval, linewidth=3, linestyle='dashed', color='black', label='holdout')\n",
    "ax.axhline(y=np.log(1/len(names_oh)), color='black', linestyle=':')\n",
    "\n",
    "ax.set_ylim([-30,-5])\n",
    "ax.set_title('log likelihood per datapoint', fontsize=14)\n",
    "ax.set_xlabel('epoch', fontsize=14)\n",
    "plt.legend(bbox_to_anchor=(1,.5), loc='center left', frameon=False, fontsize=14)\n",
    "plt.show()"
   ]
  },
  {
   "cell_type": "code",
   "execution_count": null,
   "metadata": {},
   "outputs": [],
   "source": []
  }
 ],
 "metadata": {
  "kernelspec": {
   "display_name": "Python 3",
   "language": "python",
   "name": "python3"
  },
  "language_info": {
   "codemirror_mode": {
    "name": "ipython",
    "version": 3
   },
   "file_extension": ".py",
   "mimetype": "text/x-python",
   "name": "python",
   "nbconvert_exporter": "python",
   "pygments_lexer": "ipython3",
   "version": "3.8.10"
  }
 },
 "nbformat": 4,
 "nbformat_minor": 4
}
